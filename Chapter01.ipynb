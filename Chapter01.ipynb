{
  "nbformat": 4,
  "nbformat_minor": 0,
  "metadata": {
    "colab": {
      "provenance": [],
      "authorship_tag": "ABX9TyPaF+cy+BkSjk9dAVhZmgka",
      "include_colab_link": true
    },
    "kernelspec": {
      "name": "python3",
      "display_name": "Python 3"
    },
    "language_info": {
      "name": "python"
    }
  },
  "cells": [
    {
      "cell_type": "markdown",
      "metadata": {
        "id": "view-in-github",
        "colab_type": "text"
      },
      "source": [
        "<a href=\"https://colab.research.google.com/github/RRR-TTT/EveryDayRailsBookClub/blob/master/Chapter01.ipynb\" target=\"_parent\"><img src=\"https://colab.research.google.com/assets/colab-badge.svg\" alt=\"Open In Colab\"/></a>"
      ]
    },
    {
      "cell_type": "markdown",
      "source": [
        "# 第一章 因果の探求から社会実装\n",
        "\n",
        "## 1.1 因果とは\n",
        "\n",
        "- 原因と結果は時空間的に隣接している\n",
        "- 原因は結果に時間的に先行している\n",
        "- 原因と結果は常につながっている（原因は常に結果を伴っている）\n",
        "\n",
        "## 1.2 因果推論の活用と価値想像\n",
        "\n",
        "- 1.2.1 Uberも使用する因果推論\n",
        "  - 試作実施による４つのパターン\n",
        "    - 説得可能群\n",
        "    - 鉄板群\n",
        "    - 無関心群\n",
        "    - 不干渉群\n",
        "  - 売上効果\n",
        "    - 処置群(Treated Group)\n",
        "    - 対照群(Control Group)\n",
        "- 1.3 因果推論を活用した意思決定\n",
        "  - 意志決定とは、一定の目的を達成するために取り得る複数の選択肢の中から  1つを選ぶこと\n",
        "  - 意思決定プロセス\n",
        "    - 情報活動\n",
        "    - 設計活動\n",
        "    - 選択活動\n"
      ],
      "metadata": {
        "id": "OI8gDiUXsnLK"
      }
    },
    {
      "cell_type": "code",
      "execution_count": null,
      "metadata": {
        "id": "isYipP09q1Zi"
      },
      "outputs": [],
      "source": []
    }
  ]
}